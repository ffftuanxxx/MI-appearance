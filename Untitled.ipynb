{
 "cells": [
  {
   "cell_type": "code",
   "execution_count": 1,
   "id": "0e8518c7",
   "metadata": {},
   "outputs": [
    {
     "name": "stdout",
     "output_type": "stream",
     "text": [
      "The mutual information is: 0.4196176972871201\n",
      "The mutual information is: 3.06569337782698\n"
     ]
    }
   ],
   "source": [
    "import os\n",
    "import numpy as np\n",
    "import cv2\n",
    "\n",
    "def compute_probability_distribution(image):\n",
    "    # Flatten the image to a 1D array of intensity values\n",
    "    intensity_values = image.flatten()\n",
    "    # Calculate the probability of each intensity level\n",
    "    histogram, _ = np.histogram(intensity_values, bins=256, range=(0, 256), density=True)\n",
    "    return histogram\n",
    "\n",
    "def mutual_information(imageA, imageB):\n",
    "    # Compute the probability distribution of each image\n",
    "    pA = compute_probability_distribution(imageA)\n",
    "    pB = compute_probability_distribution(imageB)\n",
    "    \n",
    "    # Compute the joint probability distribution of both images\n",
    "    joint_histogram, _, _ = np.histogram2d(imageA.flatten(), imageB.flatten(), bins=256, range=((0, 256), (0, 256)), density=True)\n",
    "    \n",
    "    # Calculate the mutual information\n",
    "    mi = 0\n",
    "    for i in range(256):\n",
    "        for j in range(256):\n",
    "            if joint_histogram[i, j] > 0 and pA[i] > 0 and pB[j] > 0:\n",
    "                mi += joint_histogram[i, j] * np.log2(joint_histogram[i, j] / (pA[i] * pB[j]))\n",
    "    \n",
    "    return mi\n",
    "\n",
    "\n",
    "def load_image_with_opencv(file_path, size=None):\n",
    "    # Read the image file\n",
    "    img = cv2.imread(file_path, cv2.IMREAD_GRAYSCALE)\n",
    "    # Resize the image if a size is provided\n",
    "    if size is not None:\n",
    "        img = cv2.resize(img, size)\n",
    "    return img\n",
    "\n",
    "size = (256, 256)\n",
    "imageA = load_image_with_opencv('38bfa1a328dd35f206516d85a1f3ae2.jpg', size=size)\n",
    "imageB = load_image_with_opencv('1924cf3c80fc038a31ffe59093bbe20.jpg', size=size)\n",
    "\n",
    "# Compute mutual information\n",
    "mi = mutual_information(imageA, imageB)\n",
    "print(f\"The mutual information is: {mi}\")\n",
    "\n",
    "imageB1 = load_image_with_opencv('dbdea13498bfaf4bf16faefc6f68f3e.jpg', size=size)\n",
    "mi1 = mutual_information(imageA, imageB1)\n",
    "print(f\"The mutual information is: {mi1}\")"
   ]
  },
  {
   "cell_type": "code",
   "execution_count": null,
   "id": "2d913362",
   "metadata": {},
   "outputs": [],
   "source": []
  }
 ],
 "metadata": {
  "kernelspec": {
   "display_name": "Python 3 (ipykernel)",
   "language": "python",
   "name": "python3"
  },
  "language_info": {
   "codemirror_mode": {
    "name": "ipython",
    "version": 3
   },
   "file_extension": ".py",
   "mimetype": "text/x-python",
   "name": "python",
   "nbconvert_exporter": "python",
   "pygments_lexer": "ipython3",
   "version": "3.10.13"
  }
 },
 "nbformat": 4,
 "nbformat_minor": 5
}
